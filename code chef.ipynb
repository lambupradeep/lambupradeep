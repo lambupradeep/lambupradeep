{
 "cells": [
  {
   "cell_type": "markdown",
   "metadata": {},
   "source": [
    "Output:\n",
    "For each testcase, in a new line, print the starting and ending positions(1 indexing) of first such occuring subarray from the left if sum equals to subarray, else print -1.\n",
    "\n",
    "Constraints:\n",
    "1 <= T <= 100\n",
    "1 <= N <= 107\n",
    "1 <= Ai <= 1010\n",
    "\n",
    "Example:\n",
    "Input:\n",
    "2\n",
    "5 12\n",
    "1 2 3 7 5\n",
    "10 15\n",
    "1 2 3 4 5 6 7 8 9 10\n",
    "Output:\n",
    "2 4\n",
    "1 5"
   ]
  },
  {
   "cell_type": "code",
   "execution_count": 7,
   "metadata": {},
   "outputs": [
    {
     "name": "stdout",
     "output_type": "stream",
     "text": [
      "5 12\n",
      "1 2 3 7 5\n",
      "2 4\n"
     ]
    }
   ],
   "source": [
    "    n = list(map(int, input().split()))\n",
    "    a = list(map(int,input().split()))\n",
    "    wsum=0\n",
    "    start=0\n",
    "    flag=0\n",
    "    for i in range(n[0]):\n",
    "        if flag==0:\n",
    "            wsum=wsum+a[i]\n",
    "            while wsum>n[1]:\n",
    "                wsum=wsum-a[start]\n",
    "                start=start+1\n",
    "            if wsum==n[1]:\n",
    "                flag=1\n",
    "                print(start+1,end=\" \")\n",
    "                print(i+1, )\n",
    "    \n",
    "              \n",
    "      if flag==0:\n",
    "        print('-1')\n",
    "\n",
    "        \n",
    "        "
   ]
  },
  {
   "cell_type": "code",
   "execution_count": null,
   "metadata": {},
   "outputs": [],
   "source": [
    "Constraints\n",
    "1≤T≤100\n",
    "1≤N≤100\n",
    "0≤fi≤100 for each valid i\n",
    "Subtasks\n",
    "Subtask #1 (100 points): original constraints\n",
    "\n",
    "Example Input\n",
    "3\n",
    "5\n",
    "3 0 0 0 0\n",
    "5\n",
    "1 1 1 1 1\n",
    "5\n",
    "5 4 3 2 1\n",
    "Example Output\n",
    "3\n",
    "5\n",
    "15\n",
    "All submis"
   ]
  },
  {
   "cell_type": "code",
   "execution_count": 3,
   "metadata": {},
   "outputs": [
    {
     "name": "stdout",
     "output_type": "stream",
     "text": [
      "1\n",
      "5\n",
      "3 0 0 0 0\n",
      "[3, 0, 0, 0, 0]\n"
     ]
    }
   ],
   "source": [
    "T=int(input())\n",
    "l=[]\n",
    "for i in range(T):\n",
    "    n=int(input())\n",
    "    c=list(map(int,input().split()))\n",
    "    \n",
    "    if sum(c)<n-1:\n",
    "        gas=c[0]\n",
    "        dist=0\n",
    "        for j in range(1,len(c)):\n",
    "            if gas<1:\n",
    "                break\n",
    "            else:\n",
    "                gas-=1\n",
    "                dist+=1\n",
    "                gas+=c[j]\n",
    "            \n",
    "        l.append(dist)\n",
    "    \n",
    "    else:\n",
    "        l.append(sum(c))\n",
    "\n",
    "print(c)        \n"
   ]
  },
  {
   "cell_type": "code",
   "execution_count": 2,
   "metadata": {},
   "outputs": [
    {
     "name": "stdout",
     "output_type": "stream",
     "text": [
      "1\n",
      "3\n",
      "3 0 0 0 0\n",
      "3\n"
     ]
    }
   ],
   "source": [
    "T=int(input())\n",
    "for _ in range(T):\n",
    "    n=int(input())\n",
    "    c=list(map(int,input().split()))[:n]\n",
    "    gas=c[0]\n",
    "    dis=0\n",
    "    for i in range(1,n):\n",
    "        if gas==0:\n",
    "            break\n",
    "        gas=gas-1+c[i]\n",
    "        dis=dis+1\n",
    "    print(gas+dis)    \n",
    "    "
   ]
  },
  {
   "cell_type": "code",
   "execution_count": null,
   "metadata": {},
   "outputs": [],
   "source": [
    "Output:\n",
    "For each test case print one lines with one integer showing the total number of subparts following the given condition.\n",
    "\n",
    "Constraints\n",
    "1≤T≤1000\n",
    "1≤X≤1000\n",
    "1≤N≤1000\n",
    "1≤numbersInArray≤1000\n",
    "Sample Input:\n",
    "1\n",
    "3\n",
    "3\n",
    "1 2 3\n",
    "Sample Output:\n",
    "3\n",
    "EXPLANATION:\n",
    "Subparts: [1], [2]. [1, 2] follow given condition.\n",
    "\n"
   ]
  },
  {
   "cell_type": "code",
   "execution_count": 1,
   "metadata": {},
   "outputs": [
    {
     "name": "stdout",
     "output_type": "stream",
     "text": [
      "ijgijdsfi\n"
     ]
    },
    {
     "ename": "ValueError",
     "evalue": "invalid literal for int() with base 10: 'ijgijdsfi'",
     "output_type": "error",
     "traceback": [
      "\u001b[1;31m---------------------------------------------------------------------------\u001b[0m",
      "\u001b[1;31mValueError\u001b[0m                                Traceback (most recent call last)",
      "\u001b[1;32m<ipython-input-1-e5f88a6c3640>\u001b[0m in \u001b[0;36m<module>\u001b[1;34m\u001b[0m\n\u001b[0;32m      1\u001b[0m \u001b[0mc\u001b[0m\u001b[1;33m=\u001b[0m\u001b[1;33m[\u001b[0m\u001b[1;33m]\u001b[0m\u001b[1;33m\u001b[0m\u001b[1;33m\u001b[0m\u001b[0m\n\u001b[0;32m      2\u001b[0m \u001b[0mcount\u001b[0m\u001b[1;33m=\u001b[0m\u001b[1;36m0\u001b[0m\u001b[1;33m\u001b[0m\u001b[1;33m\u001b[0m\u001b[0m\n\u001b[1;32m----> 3\u001b[1;33m \u001b[0mt\u001b[0m\u001b[1;33m=\u001b[0m\u001b[0mint\u001b[0m\u001b[1;33m(\u001b[0m\u001b[0minput\u001b[0m\u001b[1;33m(\u001b[0m\u001b[1;33m)\u001b[0m\u001b[1;33m)\u001b[0m\u001b[1;33m\u001b[0m\u001b[1;33m\u001b[0m\u001b[0m\n\u001b[0m\u001b[0;32m      4\u001b[0m \u001b[1;32mfor\u001b[0m \u001b[0mi\u001b[0m \u001b[1;32min\u001b[0m \u001b[0mrange\u001b[0m\u001b[1;33m(\u001b[0m\u001b[0mt\u001b[0m\u001b[1;33m)\u001b[0m\u001b[1;33m:\u001b[0m\u001b[1;33m\u001b[0m\u001b[1;33m\u001b[0m\u001b[0m\n\u001b[0;32m      5\u001b[0m     \u001b[0mx\u001b[0m\u001b[1;33m=\u001b[0m\u001b[0mint\u001b[0m\u001b[1;33m(\u001b[0m\u001b[0minput\u001b[0m\u001b[1;33m(\u001b[0m\u001b[1;33m)\u001b[0m\u001b[1;33m)\u001b[0m\u001b[1;33m\u001b[0m\u001b[1;33m\u001b[0m\u001b[0m\n",
      "\u001b[1;31mValueError\u001b[0m: invalid literal for int() with base 10: 'ijgijdsfi'"
     ]
    }
   ],
   "source": [
    "c=[]\n",
    "count=0\n",
    "t=int(input())\n",
    "for i in range(t):\n",
    "    x=int(input())\n",
    "    n=int(input())\n",
    "    q = list(map(int,input().split()))[:n]\n",
    "    for i in range(0, n):\n",
    "        if q[i] < x:\n",
    "            count += 1\n",
    "            #c.append(count)\n",
    " \n",
    "        m = q[i]\n",
    " \n",
    "        for j in range(i + 1, n):\n",
    "            m = m * q[j]\n",
    "            if m < x:\n",
    "                count += 1\n",
    "                #c.append(count)\n",
    "            else:\n",
    "                break\n",
    "    c.append(count)\n",
    "    count=0\n",
    "print(*c,sep='\\n')"
   ]
  },
  {
   "cell_type": "code",
   "execution_count": 30,
   "metadata": {},
   "outputs": [
    {
     "name": "stdout",
     "output_type": "stream",
     "text": [
      "[[], [1], [1, 2], [1, 2, 3], [2], [2, 3], [3]]\n",
      "3\n"
     ]
    }
   ],
   "source": [
    "n=[1,2,3]\n",
    "b=[[]]\n",
    "target=6\n",
    "sub=[]\n",
    "for i in range(len(n)+1):\n",
    "    for j in range(i+1,len(n)+1):\n",
    "        sub=n[i:j]\n",
    "        b.append(sub)\n",
    "\n",
    "res=[sum(i) for i in b]\n",
    "print(b)\n",
    "for ind,it in enumerate(res):\n",
    "    if  it==target:\n",
    "        print(ind)\n"
   ]
  },
  {
   "cell_type": "code",
   "execution_count": 4,
   "metadata": {},
   "outputs": [
    {
     "name": "stdout",
     "output_type": "stream",
     "text": [
      "[1, 2]\n"
     ]
    }
   ],
   "source": [
    "l=[1,2,3]\n",
    "target=5\n",
    "h={}\n",
    "for i,num in enumerate(l):\n",
    "    n=target-num\n",
    "    if n not in h:\n",
    "        h[num]=i\n",
    "    else:\n",
    "        print([h[n],i])\n",
    "        "
   ]
  },
  {
   "cell_type": "code",
   "execution_count": 5,
   "metadata": {},
   "outputs": [
    {
     "name": "stdout",
     "output_type": "stream",
     "text": [
      "[4, 5]\n"
     ]
    }
   ],
   "source": [
    "l=[1,2,3,4,5]\n",
    "target=9\n",
    "h=[]\n",
    "for i,num in enumerate(l):\n",
    "    n=target-num\n",
    "    if n not in h:\n",
    "        h.append(num)\n",
    "    else:\n",
    "        print([i,l[i]])\n",
    "        \n",
    "        "
   ]
  },
  {
   "cell_type": "code",
   "execution_count": 2,
   "metadata": {},
   "outputs": [
    {
     "name": "stdout",
     "output_type": "stream",
     "text": [
      "0 1\n",
      "3 4\n"
     ]
    }
   ],
   "source": [
    "money=5\n",
    "cost=[1,4,5,3,2]\n",
    "h={}\n",
    "for i,it in enumerate(cost):\n",
    "        n=money-it\n",
    "        if n not in h:\n",
    "            h[it]=i\n",
    "        else:\n",
    "            print(h[n],i)"
   ]
  },
  {
   "cell_type": "code",
   "execution_count": 2,
   "metadata": {},
   "outputs": [
    {
     "name": "stdout",
     "output_type": "stream",
     "text": [
      "Hello Pradeep\n",
      "Pradeep\n"
     ]
    }
   ],
   "source": [
    "s=input()\n",
    "res=s.split(\" \")\n",
    "long=res[0]\n",
    "for i in res:\n",
    "    if i>long:\n",
    "        long=i\n",
    "\n",
    "print(long)"
   ]
  },
  {
   "cell_type": "code",
   "execution_count": 3,
   "metadata": {},
   "outputs": [
    {
     "name": "stdout",
     "output_type": "stream",
     "text": [
      "Pradeep\n"
     ]
    }
   ],
   "source": [
    "d=\"Hello Pradeep\"\n",
    "res=d.split(\" \")\n",
    "print(max(res))"
   ]
  },
  {
   "cell_type": "code",
   "execution_count": 12,
   "metadata": {},
   "outputs": [
    {
     "name": "stdout",
     "output_type": "stream",
     "text": [
      "2\n",
      "2\n"
     ]
    }
   ],
   "source": [
    "from itertools import combinations\n",
    "l=[1,2,3,4]\n",
    "tar=5\n",
    "res=list(map(lambda x:x[0]+x[1],combinations(l,2)))\n",
    "for i in res:\n",
    "    if i==tar:\n",
    "        print(res.index(i))\n"
   ]
  },
  {
   "cell_type": "code",
   "execution_count": 4,
   "metadata": {},
   "outputs": [
    {
     "name": "stdout",
     "output_type": "stream",
     "text": [
      "[10, 8, 6, 9, 7]\n"
     ]
    }
   ],
   "source": [
    "l=[10,9,8,7,6]\n",
    "for i in range(len(l)-1):\n",
    "    for j in range(i+1,len(l)-1):\n",
    "        if l[j]<l[i]:\n",
    "            temp=l[j]\n",
    "            l[j]=l[j+1]\n",
    "            l[j+1]=temp\n",
    "            \n",
    "print(l)            "
   ]
  },
  {
   "cell_type": "code",
   "execution_count": 7,
   "metadata": {},
   "outputs": [
    {
     "name": "stdout",
     "output_type": "stream",
     "text": [
      "palindrome 121\n"
     ]
    }
   ],
   "source": [
    "def check_palin(n):\n",
    "    rev=0\n",
    "    while(n>0):\n",
    "        rem=n%10\n",
    "        rev=rev*10+rem\n",
    "        n=n//10\n",
    "        \n",
    "    return rev\n",
    "num=121\n",
    "res=check_palin(num)\n",
    "if res==num:\n",
    "    print(\"palindrome\",res)\n",
    "else:\n",
    "    print(\"Not palin\",res)\n",
    "    "
   ]
  },
  {
   "cell_type": "code",
   "execution_count": 28,
   "metadata": {},
   "outputs": [
    {
     "name": "stdout",
     "output_type": "stream",
     "text": [
      "5\n",
      "4\n",
      "11\n",
      "12\n",
      "1\n"
     ]
    }
   ],
   "source": [
    "n,m,k=4,8,4\n",
    "s=[[0 for j in range(k)]for i in range(n)]\n",
    "s=[[1,2,1,2,5],\n",
    "  [3,5,1,3,4],\n",
    "  [1,2,4,5,11],\n",
    "  [1,1,1,3,12]]\n",
    "count=0\n",
    "for i in range(n):\n",
    "    a=0\n",
    "    for j in range(k):\n",
    "        a=a+s[i][j]\n",
    "    print(s[i][k])    \n",
    "    if(a>=m and s[i][k]<=10):\n",
    "        count+=1\n",
    "print(count)      "
   ]
  },
  {
   "cell_type": "code",
   "execution_count": 24,
   "metadata": {},
   "outputs": [
    {
     "ename": "SyntaxError",
     "evalue": "invalid syntax (<ipython-input-24-2d31dc6ffd59>, line 1)",
     "output_type": "error",
     "traceback": [
      "\u001b[1;36m  File \u001b[1;32m\"<ipython-input-24-2d31dc6ffd59>\"\u001b[1;36m, line \u001b[1;32m1\u001b[0m\n\u001b[1;33m    4 8 4\u001b[0m\n\u001b[1;37m      ^\u001b[0m\n\u001b[1;31mSyntaxError\u001b[0m\u001b[1;31m:\u001b[0m invalid syntax\n"
     ]
    }
   ],
   "source": [
    "4 8 4\n",
    "1 2 1 2 5\n",
    "3 5 1 3 4\n",
    "1 2 4 5 11\n",
    "1 1 1 3 12"
   ]
  },
  {
   "cell_type": "code",
   "execution_count": 26,
   "metadata": {},
   "outputs": [
    {
     "name": "stdout",
     "output_type": "stream",
     "text": [
      "4 8 4\n",
      "1 2 1 2 5\n",
      "3 5 1 3 4\n",
      "1 2 4 5 11\n",
      "1 1 1 3 12\n",
      "2\n",
      "3\n"
     ]
    }
   ],
   "source": [
    "n,m,k=map(int,input().split())\n",
    "s=[[0 for j in range(k+1)]for i in range(n)]\n",
    "for i in range(n):\n",
    "    res=list(map(int,input().split()))\n",
    "    for j in range(k+1):\n",
    "        s[i][j]=res[j]\n",
    "        \n",
    "for i in range(n):\n",
    "    a=0\n",
    "    for j in range(k+1):\n",
    "        a=a+s[i][j]\n",
    "    if(a>=m and s[i][5]>10):\n",
    "        print(i)\n",
    "    "
   ]
  },
  {
   "cell_type": "code",
   "execution_count": 32,
   "metadata": {},
   "outputs": [
    {
     "name": "stdout",
     "output_type": "stream",
     "text": [
      "1 2 1 2 5\n",
      "3 5 1 3 4\n",
      "1 2 4 5 11\n",
      "1 1 1 3 12\n"
     ]
    },
    {
     "ename": "ValueError",
     "evalue": "cannot reshape array of size 5 into shape (4,5)",
     "output_type": "error",
     "traceback": [
      "\u001b[1;31m---------------------------------------------------------------------------\u001b[0m",
      "\u001b[1;31mValueError\u001b[0m                                Traceback (most recent call last)",
      "\u001b[1;32m<ipython-input-32-5f9b87b92d5d>\u001b[0m in \u001b[0;36m<module>\u001b[1;34m\u001b[0m\n\u001b[0;32m      4\u001b[0m \u001b[1;32mfor\u001b[0m \u001b[0mi\u001b[0m \u001b[1;32min\u001b[0m \u001b[0mrange\u001b[0m\u001b[1;33m(\u001b[0m\u001b[0mn\u001b[0m\u001b[1;33m)\u001b[0m\u001b[1;33m:\u001b[0m\u001b[1;33m\u001b[0m\u001b[1;33m\u001b[0m\u001b[0m\n\u001b[0;32m      5\u001b[0m     \u001b[0mres\u001b[0m\u001b[1;33m=\u001b[0m\u001b[0mlist\u001b[0m\u001b[1;33m(\u001b[0m\u001b[0mmap\u001b[0m\u001b[1;33m(\u001b[0m\u001b[0mint\u001b[0m\u001b[1;33m,\u001b[0m\u001b[0minput\u001b[0m\u001b[1;33m(\u001b[0m\u001b[1;33m)\u001b[0m\u001b[1;33m.\u001b[0m\u001b[0msplit\u001b[0m\u001b[1;33m(\u001b[0m\u001b[1;33m)\u001b[0m\u001b[1;33m)\u001b[0m\u001b[1;33m)\u001b[0m\u001b[1;33m\u001b[0m\u001b[1;33m\u001b[0m\u001b[0m\n\u001b[1;32m----> 6\u001b[1;33m \u001b[0mfinal\u001b[0m\u001b[1;33m=\u001b[0m\u001b[0mnp\u001b[0m\u001b[1;33m.\u001b[0m\u001b[0marray\u001b[0m\u001b[1;33m(\u001b[0m\u001b[0mres\u001b[0m\u001b[1;33m)\u001b[0m\u001b[1;33m.\u001b[0m\u001b[0mreshape\u001b[0m\u001b[1;33m(\u001b[0m\u001b[0mn\u001b[0m\u001b[1;33m,\u001b[0m\u001b[0mk\u001b[0m\u001b[1;33m)\u001b[0m\u001b[1;33m\u001b[0m\u001b[1;33m\u001b[0m\u001b[0m\n\u001b[0m\u001b[0;32m      7\u001b[0m \u001b[0mprint\u001b[0m\u001b[1;33m(\u001b[0m\u001b[0mfinal\u001b[0m\u001b[1;33m)\u001b[0m\u001b[1;33m\u001b[0m\u001b[1;33m\u001b[0m\u001b[0m\n",
      "\u001b[1;31mValueError\u001b[0m: cannot reshape array of size 5 into shape (4,5)"
     ]
    }
   ],
   "source": [
    "import numpy as np\n",
    "n,k=4,5\n",
    "\n",
    "for i in range(n):\n",
    "    res=list(map(int,input().split()))\n",
    "final=np.array(res).reshape(n,k)\n",
    "print(final)"
   ]
  },
  {
   "cell_type": "code",
   "execution_count": 36,
   "metadata": {},
   "outputs": [
    {
     "name": "stdout",
     "output_type": "stream",
     "text": [
      "1 2 3\n",
      "4 5 6\n",
      "7 8 9\n",
      "[[1, 2, 3], [4, 5, 6], [7, 8, 9]]\n"
     ]
    }
   ],
   "source": [
    "res=[]\n",
    "for i in range(3):\n",
    "    a=[]\n",
    "    a=list(map(int,input().split()))\n",
    "    res.append(a)   \n",
    "print(res)\n",
    "    "
   ]
  },
  {
   "cell_type": "code",
   "execution_count": 5,
   "metadata": {},
   "outputs": [
    {
     "name": "stdout",
     "output_type": "stream",
     "text": [
      "pygame 2.0.0 (SDL 2.0.12, python 3.8.3)\n",
      "Hello from the pygame community. https://www.pygame.org/contribute.html\n"
     ]
    }
   ],
   "source": [
    "import pygame\n"
   ]
  },
  {
   "cell_type": "code",
   "execution_count": 7,
   "metadata": {},
   "outputs": [
    {
     "name": "stdout",
     "output_type": "stream",
     "text": [
      "[7, 3, 10, 7]\n"
     ]
    }
   ],
   "source": [
    "l1=[2,4,3]\n",
    "l2=[5,6,4]\n",
    "l1=l1[::-1]\n",
    "l2=l2[::-1]\n",
    "res=[]\n",
    "for i,num in enumerate(l1):\n",
    "    add=num+l2[i]\n",
    "    if add>=10:\n",
    "        res.append(l1[i+1]+1)\n",
    "    res.append(add)\n",
    "print(res)"
   ]
  },
  {
   "cell_type": "raw",
   "metadata": {},
   "source": []
  },
  {
   "cell_type": "code",
   "execution_count": 5,
   "metadata": {},
   "outputs": [
    {
     "name": "stdout",
     "output_type": "stream",
     "text": [
      "ferrari speed is good\n",
      "activa speed is good\n"
     ]
    }
   ],
   "source": [
    "class vehicle:\n",
    "    def __init__(self,name):\n",
    "        self.name=name\n",
    "    def speed(self):\n",
    "        print(f\"{self.name} speed is good\")\n",
    "        \n",
    "if __name__==\"__main__\":\n",
    "    car=vehicle(\"ferrari\")\n",
    "    car.speed()\n",
    "    scooter=vehicle(\"activa\")\n",
    "    scooter.speed()\n",
    "        "
   ]
  },
  {
   "cell_type": "code",
   "execution_count": 12,
   "metadata": {},
   "outputs": [
    {
     "name": "stdout",
     "output_type": "stream",
     "text": [
      "[[1 2 3]\n",
      " [4 5 6]\n",
      " [7 8 9]]\n"
     ]
    }
   ],
   "source": [
    "import numpy as np\n",
    "print(np.arange(1,10).reshape(3,3))\n"
   ]
  },
  {
   "cell_type": "code",
   "execution_count": 5,
   "metadata": {},
   "outputs": [
    {
     "name": "stdout",
     "output_type": "stream",
     "text": [
      "e\n"
     ]
    }
   ],
   "source": [
    "from collections import Counter\n",
    "s=\"Pradeep L\"\n",
    "d=dict(Counter(s))\n",
    "print(max(d,key=d.get))"
   ]
  },
  {
   "cell_type": "code",
   "execution_count": 13,
   "metadata": {},
   "outputs": [
    {
     "name": "stdout",
     "output_type": "stream",
     "text": [
      "0\n"
     ]
    }
   ],
   "source": [
    "from collections import defaultdict\n",
    "d=defaultdict(int)\n",
    "d[\"a\"]=1\n",
    "d[\"b\"]=2\n",
    "d[\"c\"]=3\n",
    "print(d[\"d\"])"
   ]
  },
  {
   "cell_type": "code",
   "execution_count": 18,
   "metadata": {},
   "outputs": [
    {
     "name": "stdout",
     "output_type": "stream",
     "text": [
      "deque([1, 2, 3, 4, 5])\n",
      "deque([2, 3, 4, 5, 1])\n"
     ]
    }
   ],
   "source": [
    "from collections import deque\n",
    "d=deque()\n",
    "d.append(1)\n",
    "d.extend([2,3,4,5])\n",
    "print(d)\n",
    "d.rotate(-1)\n",
    "print(d)"
   ]
  },
  {
   "cell_type": "code",
   "execution_count": 20,
   "metadata": {},
   "outputs": [
    {
     "name": "stdout",
     "output_type": "stream",
     "text": [
      "[(1, 3), (1, 4), (1, 5), (2, 3), (2, 4), (2, 5), (3, 3), (3, 4), (3, 5)]\n"
     ]
    }
   ],
   "source": [
    "from itertools import product\n",
    "a=[1,2,3]\n",
    "b=[3,4,5]\n",
    "print(list(product(a,b)))"
   ]
  },
  {
   "cell_type": "code",
   "execution_count": 30,
   "metadata": {},
   "outputs": [
    {
     "ename": "SyntaxError",
     "evalue": "invalid syntax (<ipython-input-30-ed0632d0aa5e>, line 4)",
     "output_type": "error",
     "traceback": [
      "\u001b[1;36m  File \u001b[1;32m\"<ipython-input-30-ed0632d0aa5e>\"\u001b[1;36m, line \u001b[1;32m4\u001b[0m\n\u001b[1;33m    return n=21\u001b[0m\n\u001b[1;37m            ^\u001b[0m\n\u001b[1;31mSyntaxError\u001b[0m\u001b[1;31m:\u001b[0m invalid syntax\n"
     ]
    }
   ],
   "source": [
    "from itertools import groupby\n",
    "d={\"Pradeep\":21,\"suraj\":21,\"virat\":31}\n",
    "def func(n):\n",
    "    return n=21\n",
    "d=groupby(d,key=func(d))\n",
    "for key,val in d:\n",
    "    print(key,list(val))\n"
   ]
  },
  {
   "cell_type": "code",
   "execution_count": 12,
   "metadata": {},
   "outputs": [
    {
     "name": "stdout",
     "output_type": "stream",
     "text": [
      "[1, 2]\n"
     ]
    }
   ],
   "source": [
    "l=[1,2,3,4]\n",
    "target=5\n",
    "h={}\n",
    "for i,num in enumerate(l):\n",
    "    n=target-num\n",
    "    if n not in h:\n",
    "        h[num]=i\n",
    "    else:\n",
    "        print([h[n],i])\n",
    "        break"
   ]
  },
  {
   "cell_type": "code",
   "execution_count": 7,
   "metadata": {},
   "outputs": [
    {
     "name": "stdout",
     "output_type": "stream",
     "text": [
      "is input 1 is to low or high l or h?l\n",
      "is input 5 is to low or high l or h?h\n",
      "is input 4 is to low or high l or h?h\n",
      "is input 2 is to low or high l or h?c\n",
      "yes the number 2 is correct!!\n"
     ]
    }
   ],
   "source": [
    "import random\n",
    "def computer_guess(x):\n",
    "    low=1\n",
    "    high=x\n",
    "    guess=\"\"\n",
    "    feedback=\"\"\n",
    "    while feedback!=\"c\":\n",
    "        if low!=high:\n",
    "            guess=random.randint(low,high)\n",
    "        else:\n",
    "            guess=low\n",
    "        feedback=input(f\"is input {guess} is to low or high l or h?\")\n",
    "        if(feedback==\"l\"):\n",
    "            low=guess+1\n",
    "        elif(feedback==\"h\"):\n",
    "            high=guess-1\n",
    "    print(f\"yes the number {guess} is correct!!\")       \n",
    "    \n",
    "computer_guess(10)    \n",
    "        "
   ]
  },
  {
   "cell_type": "code",
   "execution_count": 3,
   "metadata": {},
   "outputs": [
    {
     "name": "stdout",
     "output_type": "stream",
     "text": [
      "2\n",
      "lkdajffk\n"
     ]
    },
    {
     "ename": "ValueError",
     "evalue": "invalid literal for int() with base 10: 'lkdajffk'",
     "output_type": "error",
     "traceback": [
      "\u001b[1;31m---------------------------------------------------------------------------\u001b[0m",
      "\u001b[1;31mValueError\u001b[0m                                Traceback (most recent call last)",
      "\u001b[1;32m<ipython-input-3-ba7bf2eaccab>\u001b[0m in \u001b[0;36m<module>\u001b[1;34m\u001b[0m\n\u001b[0;32m      2\u001b[0m \u001b[0mT\u001b[0m\u001b[1;33m=\u001b[0m\u001b[0mint\u001b[0m\u001b[1;33m(\u001b[0m\u001b[0minput\u001b[0m\u001b[1;33m(\u001b[0m\u001b[1;33m)\u001b[0m\u001b[1;33m)\u001b[0m\u001b[1;33m\u001b[0m\u001b[1;33m\u001b[0m\u001b[0m\n\u001b[0;32m      3\u001b[0m \u001b[1;32mfor\u001b[0m \u001b[0mi\u001b[0m \u001b[1;32min\u001b[0m \u001b[0mrange\u001b[0m\u001b[1;33m(\u001b[0m\u001b[0mT\u001b[0m\u001b[1;33m)\u001b[0m\u001b[1;33m:\u001b[0m\u001b[1;33m\u001b[0m\u001b[1;33m\u001b[0m\u001b[0m\n\u001b[1;32m----> 4\u001b[1;33m     \u001b[0mx\u001b[0m\u001b[1;33m,\u001b[0m\u001b[0my\u001b[0m\u001b[1;33m=\u001b[0m\u001b[0mmap\u001b[0m\u001b[1;33m(\u001b[0m\u001b[0mint\u001b[0m\u001b[1;33m,\u001b[0m \u001b[0minput\u001b[0m\u001b[1;33m(\u001b[0m\u001b[1;33m)\u001b[0m\u001b[1;33m.\u001b[0m\u001b[0msplit\u001b[0m\u001b[1;33m(\u001b[0m\u001b[1;33m)\u001b[0m\u001b[1;33m)\u001b[0m\u001b[1;33m\u001b[0m\u001b[1;33m\u001b[0m\u001b[0m\n\u001b[0m\u001b[0;32m      5\u001b[0m     \u001b[1;32mif\u001b[0m \u001b[0mx\u001b[0m\u001b[1;33m==\u001b[0m\u001b[0my\u001b[0m\u001b[1;33m:\u001b[0m\u001b[1;33m\u001b[0m\u001b[1;33m\u001b[0m\u001b[0m\n\u001b[0;32m      6\u001b[0m         \u001b[0mprint\u001b[0m\u001b[1;33m(\u001b[0m\u001b[1;36m0\u001b[0m\u001b[1;33m)\u001b[0m\u001b[1;33m\u001b[0m\u001b[1;33m\u001b[0m\u001b[0m\n",
      "\u001b[1;31mValueError\u001b[0m: invalid literal for int() with base 10: 'lkdajffk'"
     ]
    }
   ],
   "source": [
    "# cook your dish here\n",
    "T=int(input())\n",
    "for i in range(T):\n",
    "    x,y=map(int, input().split())\n",
    "    if x==y:\n",
    "        print(0)\n",
    "    elif (y>x and (y-x)%2) or (y<x and (y-x)%2==0):\n",
    "        print(1)\n",
    "    elif(y<x and (y-x)%4):\n",
    "        print(2)\n",
    "    else:\n",
    "        print(3)"
   ]
  },
  {
   "cell_type": "code",
   "execution_count": 13,
   "metadata": {},
   "outputs": [
    {
     "ename": "SyntaxError",
     "evalue": "invalid syntax (<ipython-input-13-dad6bcb730a2>, line 7)",
     "output_type": "error",
     "traceback": [
      "\u001b[1;36m  File \u001b[1;32m\"<ipython-input-13-dad6bcb730a2>\"\u001b[1;36m, line \u001b[1;32m7\u001b[0m\n\u001b[1;33m    print(i:j)\u001b[0m\n\u001b[1;37m           ^\u001b[0m\n\u001b[1;31mSyntaxError\u001b[0m\u001b[1;31m:\u001b[0m invalid syntax\n"
     ]
    }
   ],
   "source": [
    "b=[[]]\n",
    "l=[1,2,3,4]\n",
    "for i in range(len(l)+1):\n",
    "    for j in range(i+1,len(l)+1):\n",
    "        \n",
    "        if sum(l[i:j])==9:\n",
    "            print(l[i:j])\n",
    "            \n",
    "        \n",
    "        "
   ]
  },
  {
   "cell_type": "code",
   "execution_count": 3,
   "metadata": {},
   "outputs": [
    {
     "name": "stdout",
     "output_type": "stream",
     "text": [
      "yes\n",
      "game starts\n"
     ]
    }
   ],
   "source": [
    "\n",
    "s=input().lower()\n",
    "while(s!='yes'):\n",
    "    if  s==\"no\":\n",
    "        break\n",
    "        \n",
    "    s=input(\"Please select yes or no\")\n",
    "    \n",
    "    \n",
    "print(\"game starts\")"
   ]
  },
  {
   "cell_type": "code",
   "execution_count": 1,
   "metadata": {},
   "outputs": [
    {
     "name": "stdout",
     "output_type": "stream",
     "text": [
      "1\n",
      "2\n",
      "3\n",
      "4\n"
     ]
    }
   ],
   "source": []
  },
  {
   "cell_type": "code",
   "execution_count": 4,
   "metadata": {},
   "outputs": [
    {
     "ename": "TypeError",
     "evalue": "'str' object does not support item assignment",
     "output_type": "error",
     "traceback": [
      "\u001b[1;31m---------------------------------------------------------------------------\u001b[0m",
      "\u001b[1;31mTypeError\u001b[0m                                 Traceback (most recent call last)",
      "\u001b[1;32m<ipython-input-4-cab7bdb001fd>\u001b[0m in \u001b[0;36m<module>\u001b[1;34m\u001b[0m\n\u001b[0;32m      7\u001b[0m     \u001b[0mh\u001b[0m\u001b[1;33m=\u001b[0m\u001b[0mm\u001b[0m\u001b[1;33m+\u001b[0m\u001b[1;36m1\u001b[0m\u001b[1;33m\u001b[0m\u001b[1;33m\u001b[0m\u001b[0m\n\u001b[0;32m      8\u001b[0m     \u001b[1;32mfor\u001b[0m \u001b[0mi\u001b[0m \u001b[1;32min\u001b[0m \u001b[0mrange\u001b[0m\u001b[1;33m(\u001b[0m\u001b[0mm\u001b[0m\u001b[1;33m)\u001b[0m\u001b[1;33m:\u001b[0m\u001b[1;33m\u001b[0m\u001b[1;33m\u001b[0m\u001b[0m\n\u001b[1;32m----> 9\u001b[1;33m         \u001b[0ms\u001b[0m\u001b[1;33m[\u001b[0m\u001b[0mh\u001b[0m\u001b[1;33m]\u001b[0m\u001b[1;33m=\u001b[0m\u001b[0ms\u001b[0m\u001b[1;33m[\u001b[0m\u001b[0ml\u001b[0m\u001b[1;33m]\u001b[0m\u001b[1;33m\u001b[0m\u001b[1;33m\u001b[0m\u001b[0m\n\u001b[0m\u001b[0;32m     10\u001b[0m         \u001b[0ml\u001b[0m\u001b[1;33m-=\u001b[0m\u001b[1;36m1\u001b[0m\u001b[1;33m\u001b[0m\u001b[1;33m\u001b[0m\u001b[0m\n\u001b[0;32m     11\u001b[0m         \u001b[0mh\u001b[0m\u001b[1;33m+=\u001b[0m\u001b[1;36m1\u001b[0m\u001b[1;33m\u001b[0m\u001b[1;33m\u001b[0m\u001b[0m\n",
      "\u001b[1;31mTypeError\u001b[0m: 'str' object does not support item assignment"
     ]
    }
   ],
   "source": [
    "s=\"baabc!@ab\"\n",
    "if s==s[::-1]:\n",
    "    print(\"palindrome\")\n",
    "else:\n",
    "    m=len(s)//2\n",
    "    l=m-1\n",
    "    h=m+1\n",
    "    for i in range(m):\n",
    "        s[h]=s[l]\n",
    "        l-=1\n",
    "        h+=1"
   ]
  },
  {
   "cell_type": "code",
   "execution_count": null,
   "metadata": {},
   "outputs": [],
   "source": [
    "def t():\n",
    "    n=56\n",
    "    \n",
    "    if n<10:\n",
    "        print(\"Invalid \")\n",
    "        return \n",
    "    res=[]\n",
    "    for i in range(9,-1,-1):\n",
    "        while(n!=1):\n",
    "            falg=True\n",
    "            if n%i==0:\n",
    "                res.append(i)\n",
    "                n=n//i\n",
    "                flag =False\n",
    "                break\n",
    "                \n",
    "    if flag:\n",
    "        print(\"NOt possible\")\n",
    "        \n",
    "    else:\n",
    "        res.sort()\n",
    "        for i in res:\n",
    "            print(i,end=\" \")\n",
    "            \n",
    "t()"
   ]
  },
  {
   "cell_type": "code",
   "execution_count": 2,
   "metadata": {},
   "outputs": [
    {
     "name": "stdout",
     "output_type": "stream",
     "text": [
      "[8]\n",
      "[8, 7]\n",
      "78"
     ]
    }
   ],
   "source": [
    "def t():\n",
    "    n=56\n",
    "    \n",
    "    if n<10:\n",
    "        print(\"Invalid \")\n",
    "        return \n",
    "    res=[]\n",
    "    while(n!=1):\n",
    "        falg=True\n",
    "        for i in range(9,-1,-1):\n",
    "            \n",
    "            if n%i==0:\n",
    "                res.append(i)\n",
    "                n=n//i\n",
    "                flag =False\n",
    "                print(res)\n",
    "                break\n",
    "                \n",
    "        if flag:\n",
    "            print(\"NOt possible\")\n",
    "            break\n",
    "        \n",
    "\n",
    "    res.sort()\n",
    "    for i in res:\n",
    "        print(i,end=\"\")\n",
    "            \n",
    "\n",
    "t()\n"
   ]
  },
  {
   "cell_type": "code",
   "execution_count": 5,
   "metadata": {},
   "outputs": [
    {
     "name": "stdout",
     "output_type": "stream",
     "text": [
      "1\n",
      "4\n",
      "1 3 4 2\n",
      "2\n",
      "3\n",
      "[1, 3, 4, 2]\n"
     ]
    }
   ],
   "source": [
    "t=int(input())\n",
    "for _ in range(t):\n",
    "    n=int(input())\n",
    "    l=list(map(int,input().split()))\n",
    "    k=int(input())\n",
    "    sorted(l)\n",
    "    print(l.index(k))\n",
    "print(l)"
   ]
  },
  {
   "cell_type": "code",
   "execution_count": 14,
   "metadata": {},
   "outputs": [
    {
     "name": "stdout",
     "output_type": "stream",
     "text": [
      "[1, 2, 3, 4]\n"
     ]
    }
   ],
   "source": [
    "l=[4,3,2,1]\n",
    "r=sorted(l)\n",
    "print(r)"
   ]
  },
  {
   "cell_type": "code",
   "execution_count": 1,
   "metadata": {},
   "outputs": [
    {
     "name": "stdout",
     "output_type": "stream",
     "text": [
      "{1: 3, 2: 2, 3: 3, 4: 1}\n"
     ]
    }
   ],
   "source": [
    "l=[1,2,3,4,1,1,3,2,3]\n",
    "d={}\n",
    "for i in l:\n",
    "    d[i]=l.count(i)\n",
    "print(d)"
   ]
  },
  {
   "cell_type": "code",
   "execution_count": 12,
   "metadata": {},
   "outputs": [
    {
     "ename": "TypeError",
     "evalue": "'int' object is not subscriptable",
     "output_type": "error",
     "traceback": [
      "\u001b[1;31m---------------------------------------------------------------------------\u001b[0m",
      "\u001b[1;31mTypeError\u001b[0m                                 Traceback (most recent call last)",
      "\u001b[1;32m<ipython-input-12-5fbf5162af61>\u001b[0m in \u001b[0;36m<module>\u001b[1;34m\u001b[0m\n\u001b[0;32m      1\u001b[0m \u001b[1;32mfrom\u001b[0m \u001b[0mfunctools\u001b[0m \u001b[1;32mimport\u001b[0m \u001b[0mreduce\u001b[0m\u001b[1;33m\u001b[0m\u001b[1;33m\u001b[0m\u001b[0m\n\u001b[0;32m      2\u001b[0m \u001b[0ml\u001b[0m\u001b[1;33m=\u001b[0m\u001b[1;33m[\u001b[0m\u001b[1;36m100\u001b[0m\u001b[1;33m,\u001b[0m\u001b[1;36m10\u001b[0m\u001b[1;33m,\u001b[0m\u001b[1;36m5\u001b[0m\u001b[1;33m,\u001b[0m\u001b[1;36m1\u001b[0m\u001b[1;33m,\u001b[0m\u001b[1;36m2\u001b[0m\u001b[1;33m,\u001b[0m\u001b[1;36m7\u001b[0m\u001b[1;33m,\u001b[0m\u001b[1;36m5\u001b[0m\u001b[1;33m]\u001b[0m\u001b[1;33m\u001b[0m\u001b[1;33m\u001b[0m\u001b[0m\n\u001b[1;32m----> 3\u001b[1;33m \u001b[0mres\u001b[0m\u001b[1;33m=\u001b[0m\u001b[0mlist\u001b[0m\u001b[1;33m(\u001b[0m\u001b[0mfilter\u001b[0m\u001b[1;33m(\u001b[0m\u001b[1;32mlambda\u001b[0m \u001b[0mx\u001b[0m\u001b[1;33m:\u001b[0m\u001b[0mx\u001b[0m\u001b[1;33m[\u001b[0m\u001b[1;36m0\u001b[0m\u001b[1;33m]\u001b[0m\u001b[1;33m-\u001b[0m\u001b[0mx\u001b[0m\u001b[1;33m[\u001b[0m\u001b[1;36m1\u001b[0m\u001b[1;33m]\u001b[0m\u001b[1;33m,\u001b[0m\u001b[0ml\u001b[0m\u001b[1;33m)\u001b[0m\u001b[1;33m)\u001b[0m\u001b[1;33m\u001b[0m\u001b[1;33m\u001b[0m\u001b[0m\n\u001b[0m\u001b[0;32m      4\u001b[0m \u001b[0mres1\u001b[0m\u001b[1;33m=\u001b[0m\u001b[0mreduce\u001b[0m\u001b[1;33m(\u001b[0m\u001b[1;32mlambda\u001b[0m \u001b[0mx\u001b[0m\u001b[1;33m,\u001b[0m\u001b[0my\u001b[0m\u001b[1;33m:\u001b[0m\u001b[0mx\u001b[0m\u001b[1;33m-\u001b[0m\u001b[0my\u001b[0m\u001b[1;33m,\u001b[0m\u001b[0ml\u001b[0m\u001b[1;33m)\u001b[0m\u001b[1;33m\u001b[0m\u001b[1;33m\u001b[0m\u001b[0m\n\u001b[0;32m      5\u001b[0m \u001b[0mprint\u001b[0m\u001b[1;33m(\u001b[0m\u001b[0mres\u001b[0m\u001b[1;33m)\u001b[0m\u001b[1;33m\u001b[0m\u001b[1;33m\u001b[0m\u001b[0m\n",
      "\u001b[1;32m<ipython-input-12-5fbf5162af61>\u001b[0m in \u001b[0;36m<lambda>\u001b[1;34m(x)\u001b[0m\n\u001b[0;32m      1\u001b[0m \u001b[1;32mfrom\u001b[0m \u001b[0mfunctools\u001b[0m \u001b[1;32mimport\u001b[0m \u001b[0mreduce\u001b[0m\u001b[1;33m\u001b[0m\u001b[1;33m\u001b[0m\u001b[0m\n\u001b[0;32m      2\u001b[0m \u001b[0ml\u001b[0m\u001b[1;33m=\u001b[0m\u001b[1;33m[\u001b[0m\u001b[1;36m100\u001b[0m\u001b[1;33m,\u001b[0m\u001b[1;36m10\u001b[0m\u001b[1;33m,\u001b[0m\u001b[1;36m5\u001b[0m\u001b[1;33m,\u001b[0m\u001b[1;36m1\u001b[0m\u001b[1;33m,\u001b[0m\u001b[1;36m2\u001b[0m\u001b[1;33m,\u001b[0m\u001b[1;36m7\u001b[0m\u001b[1;33m,\u001b[0m\u001b[1;36m5\u001b[0m\u001b[1;33m]\u001b[0m\u001b[1;33m\u001b[0m\u001b[1;33m\u001b[0m\u001b[0m\n\u001b[1;32m----> 3\u001b[1;33m \u001b[0mres\u001b[0m\u001b[1;33m=\u001b[0m\u001b[0mlist\u001b[0m\u001b[1;33m(\u001b[0m\u001b[0mfilter\u001b[0m\u001b[1;33m(\u001b[0m\u001b[1;32mlambda\u001b[0m \u001b[0mx\u001b[0m\u001b[1;33m:\u001b[0m\u001b[0mx\u001b[0m\u001b[1;33m[\u001b[0m\u001b[1;36m0\u001b[0m\u001b[1;33m]\u001b[0m\u001b[1;33m-\u001b[0m\u001b[0mx\u001b[0m\u001b[1;33m[\u001b[0m\u001b[1;36m1\u001b[0m\u001b[1;33m]\u001b[0m\u001b[1;33m,\u001b[0m\u001b[0ml\u001b[0m\u001b[1;33m)\u001b[0m\u001b[1;33m)\u001b[0m\u001b[1;33m\u001b[0m\u001b[1;33m\u001b[0m\u001b[0m\n\u001b[0m\u001b[0;32m      4\u001b[0m \u001b[0mres1\u001b[0m\u001b[1;33m=\u001b[0m\u001b[0mreduce\u001b[0m\u001b[1;33m(\u001b[0m\u001b[1;32mlambda\u001b[0m \u001b[0mx\u001b[0m\u001b[1;33m,\u001b[0m\u001b[0my\u001b[0m\u001b[1;33m:\u001b[0m\u001b[0mx\u001b[0m\u001b[1;33m-\u001b[0m\u001b[0my\u001b[0m\u001b[1;33m,\u001b[0m\u001b[0ml\u001b[0m\u001b[1;33m)\u001b[0m\u001b[1;33m\u001b[0m\u001b[1;33m\u001b[0m\u001b[0m\n\u001b[0;32m      5\u001b[0m \u001b[0mprint\u001b[0m\u001b[1;33m(\u001b[0m\u001b[0mres\u001b[0m\u001b[1;33m)\u001b[0m\u001b[1;33m\u001b[0m\u001b[1;33m\u001b[0m\u001b[0m\n",
      "\u001b[1;31mTypeError\u001b[0m: 'int' object is not subscriptable"
     ]
    }
   ],
   "source": [
    "from functools import reduce\n",
    "l=[100,10,5,1,2,7,5]\n",
    "res=list(filter(lambda x:x[0]-x[1],l))\n",
    "res1=reduce(lambda x,y:x-y,l)\n",
    "print(res)\n",
    "print(res1)\n"
   ]
  },
  {
   "cell_type": "code",
   "execution_count": 6,
   "metadata": {},
   "outputs": [
    {
     "name": "stdout",
     "output_type": "stream",
     "text": [
      "16\n",
      "32\n"
     ]
    }
   ],
   "source": [
    "import math\n",
    "a=[16,32,96]\n",
    "g=a[0]\n",
    "v=[]\n",
    "for i in range(len(a)-1):\n",
    "    res=math.gcd(a[i],a[i+1])\n",
    "    print(res)\n",
    "\n",
    "    "
   ]
  },
  {
   "cell_type": "code",
   "execution_count": 3,
   "metadata": {},
   "outputs": [
    {
     "name": "stdout",
     "output_type": "stream",
     "text": [
      "3\n"
     ]
    }
   ],
   "source": [
    "from itertools import combinations\n",
    "s1=\"indiiian\"\n",
    "s2=\"indian\"\n",
    "count=0\n",
    "res=list(combinations(s1,len(s2)))\n",
    "for i in res:\n",
    "    if list(i)==list(s2):\n",
    "        count+=1\n",
    "print(count)"
   ]
  },
  {
   "cell_type": "code",
   "execution_count": 7,
   "metadata": {},
   "outputs": [
    {
     "name": "stdout",
     "output_type": "stream",
     "text": [
      "[(1, 2, 3), (1, 2, 4), (2, 3, 4)]\n"
     ]
    }
   ],
   "source": [
    "a=[1,2,3,4]\n",
    "res=[]\n",
    "k=3\n",
    "for i in range(1,len(a)):\n",
    "    for j in range(i+1,len(a)):\n",
    "        res.append((a[i-1],a[i],a[j]))                                                                                                                                                                                                        \n",
    "        \n",
    "print(res)   "
   ]
  },
  {
   "cell_type": "code",
   "execution_count": 16,
   "metadata": {},
   "outputs": [
    {
     "name": "stdout",
     "output_type": "stream",
     "text": [
      "[(1, 2, 3), (1, 2, 4)]\n"
     ]
    }
   ],
   "source": [
    "def comb1(k,s,l):\n",
    "    if len(l)==k:\n",
    "        yield tuple(l)\n",
    "    elif len(s)==0:\n",
    "        pass\n",
    "    else:\n",
    "        head=s.pop(0)\n",
    "        l.append(head)\n",
    "        for c in comb1(k,s,l):\n",
    "            yield c\n",
    "        l.pop(-1)\n",
    "        for c in comb1(k,s,l):\n",
    "            yield c\n",
    "            \n",
    "c=[1,2,3,4]\n",
    "k=3\n",
    "l=[]\n",
    "print(list(comb1(k,c,l)))"
   ]
  },
  {
   "cell_type": "code",
   "execution_count": 23,
   "metadata": {},
   "outputs": [
    {
     "name": "stdout",
     "output_type": "stream",
     "text": [
      "[1] [1, 2] [1, 2, 3] [1, 2, 3, 4] [2] [2, 3] [2, 3, 4] [3] [3, 4] [4] \n",
      "[(1, 2, 3), (1, 2, 4), (1, 3, 4), (2, 3, 4)]\n"
     ]
    }
   ],
   "source": [
    "a=[1,2,3,4]\n",
    "from itertools import combinations\n",
    "k=3\n",
    "for i in range(len(a)):\n",
    "    for j in range(i+1,len(a)+1):\n",
    "         print(a[i:j],end=\" \")\n",
    "print()\n",
    "print(list(combinations(a,k)))"
   ]
  },
  {
   "cell_type": "code",
   "execution_count": 24,
   "metadata": {},
   "outputs": [
    {
     "name": "stdout",
     "output_type": "stream",
     "text": [
      "2\n"
     ]
    }
   ],
   "source": [
    "a=[8,6,4,2,1]\n",
    "n=5\n",
    "rem=0\n",
    "while(n>0):\n",
    "    for i in a:\n",
    "        if n>=i:\n",
    "            rem+=n//i\n",
    "            n=n%i\n",
    "print(rem)\n",
    "        "
   ]
  },
  {
   "cell_type": "code",
   "execution_count": 25,
   "metadata": {},
   "outputs": [
    {
     "name": "stdout",
     "output_type": "stream",
     "text": [
      "pradeep\n",
      "22\n",
      "india\n",
      "100\n",
      "55\n",
      "190\n",
      "kamal\n",
      "22\n",
      "nepal\n",
      "50\n",
      "50\n",
      "10\n",
      "50\n",
      "kamal\n",
      "nepal\n",
      "190\n",
      "pradeep\n",
      "india\n"
     ]
    }
   ],
   "source": [
    "class Players:\n",
    "    def __init__(self,pn,pa,pc,pr,pm,pw):\n",
    "        self.name=pn\n",
    "        self.age=pa\n",
    "        self.country=pc\n",
    "        self.runs=pr\n",
    "        self.matches=pm\n",
    "        self.wickets=pw\n",
    "    \n",
    "class Team:\n",
    "    def getminruns(self,lst):\n",
    "        minruns=999999 \n",
    "        minname=\" \"\n",
    "        mincountry=\" \"\n",
    "        for i in lst:\n",
    "            if i.runs<minruns:\n",
    "                minruns=i.runs\n",
    "                minname=i.name\n",
    "                mincountry=i.country\n",
    "                \n",
    "        return (minruns,minname,mincountry)\n",
    "    \n",
    "    def getmaxwickets(self,lst):\n",
    "        maxw=-1\n",
    "        maxname=\" \"\n",
    "        maxc=\" \"\n",
    "        for i in lst:\n",
    "            if i.wickets>maxw:\n",
    "                maxw=i.wickets\n",
    "                maxname=i.name\n",
    "                maxc=i.country\n",
    "        return (maxw,maxname,maxc)\n",
    "    \n",
    "lst=[]\n",
    "for i in range(2):\n",
    "    n=input()\n",
    "    a=int(input())\n",
    "    c=input()\n",
    "    r=int(input())\n",
    "    m=int(input())\n",
    "    w=int(input())\n",
    "    lst.append(Players(n,a,c,r,m,w))\n",
    "    \n",
    "t=Team()\n",
    "ans1=t.getminruns(lst)\n",
    "for i in ans1:\n",
    "    print(i)\n",
    "ans2=t.getmaxwickets(lst)\n",
    "for i in ans2:\n",
    "    print(i)\n",
    " "
   ]
  },
  {
   "cell_type": "code",
   "execution_count": 26,
   "metadata": {},
   "outputs": [
    {
     "name": "stdout",
     "output_type": "stream",
     "text": [
      "1\n",
      "1\n",
      "deepika\n",
      "22\n",
      "india\n",
      "2\n",
      "2\n",
      "samruddhi\n",
      "23\n",
      "us\n",
      "samruddhi\n",
      "2\n",
      "us\n",
      "2\n"
     ]
    }
   ],
   "source": [
    "class Table:\n",
    "    def __init__(self,tid,wid,pn,pa,pc):\n",
    "        self.tid=tid\n",
    "        self.wid=wid\n",
    "        self.wname=pn\n",
    "        self.wage=pa\n",
    "        self.wcountry=pc\n",
    "    \n",
    "def getwaitername(lst,name):\n",
    "    for i in lst:\n",
    "        if i.wname==name:\n",
    "            return (i.wname,i.wid,i.wcountry,i.tid)\n",
    "        \n",
    "lst=[]\n",
    "for i in range(2):\n",
    "    a=int(input())\n",
    "    wid=int(input())\n",
    "    c=input()\n",
    "    r=int(input())\n",
    "    m=input()\n",
    "    lst.append(Table(a,wid,c,r,m))\n",
    "    \n",
    "ans1=getwaitername(lst,\"samruddhi\")\n",
    "for i in ans1:\n",
    "    print(i)\n",
    "    \n",
    "            \n",
    "    \n",
    "       "
   ]
  },
  {
   "cell_type": "code",
   "execution_count": 4,
   "metadata": {},
   "outputs": [
    {
     "name": "stdout",
     "output_type": "stream",
     "text": [
      "[1] [1, 2] [1, 2, 3] [1, 2, 3, 4] [2] [2, 3] [2, 3, 4] [3] [3, 4] [4] "
     ]
    }
   ],
   "source": [
    "s=[1,2,3,4]\n",
    "for i in range(len(s)):\n",
    "        for j in range(i,len(s)):\n",
    "            res=s[i:j+1]\n",
    "            print(res,end=\" \")"
   ]
  },
  {
   "cell_type": "code",
   "execution_count": 1,
   "metadata": {},
   "outputs": [
    {
     "name": "stdout",
     "output_type": "stream",
     "text": [
      "paep\n"
     ]
    }
   ],
   "source": [
    "s=\"pradeep\"\n",
    "print(s[:len(s):2])"
   ]
  },
  {
   "cell_type": "code",
   "execution_count": 3,
   "metadata": {},
   "outputs": [
    {
     "name": "stdout",
     "output_type": "stream",
     "text": [
      "['pdp', 're', 'ae']\n"
     ]
    }
   ],
   "source": [
    "nc=3\n",
    "l=len(s)\n",
    "res=[s[c:l:nc] for c in range(nc)]\n",
    "print(res)"
   ]
  },
  {
   "cell_type": "code",
   "execution_count": 1,
   "metadata": {},
   "outputs": [
    {
     "ename": "TypeError",
     "evalue": "unsupported operand type(s) for -: 'list' and 'str'",
     "output_type": "error",
     "traceback": [
      "\u001b[1;31m---------------------------------------------------------------------------\u001b[0m",
      "\u001b[1;31mTypeError\u001b[0m                                 Traceback (most recent call last)",
      "\u001b[1;32m<ipython-input-1-8fa619a1fc61>\u001b[0m in \u001b[0;36m<module>\u001b[1;34m\u001b[0m\n\u001b[0;32m      2\u001b[0m \u001b[0ms1\u001b[0m\u001b[1;33m=\u001b[0m\u001b[1;34m\"\"\u001b[0m\u001b[1;33m\u001b[0m\u001b[1;33m\u001b[0m\u001b[0m\n\u001b[0;32m      3\u001b[0m \u001b[0ms1\u001b[0m\u001b[1;33m=\u001b[0m\u001b[1;33m[\u001b[0m\u001b[0mi\u001b[0m \u001b[1;32mfor\u001b[0m \u001b[0mi\u001b[0m \u001b[1;32min\u001b[0m \u001b[0ms\u001b[0m \u001b[1;32mif\u001b[0m \u001b[0mi\u001b[0m \u001b[1;32mnot\u001b[0m \u001b[1;32min\u001b[0m \u001b[0ms1\u001b[0m\u001b[1;33m]\u001b[0m\u001b[1;33m\u001b[0m\u001b[1;33m\u001b[0m\u001b[0m\n\u001b[1;32m----> 4\u001b[1;33m \u001b[0mprint\u001b[0m\u001b[1;33m(\u001b[0m\u001b[0ms1\u001b[0m\u001b[1;33m-\u001b[0m\u001b[0ms\u001b[0m\u001b[1;33m)\u001b[0m\u001b[1;33m\u001b[0m\u001b[1;33m\u001b[0m\u001b[0m\n\u001b[0m",
      "\u001b[1;31mTypeError\u001b[0m: unsupported operand type(s) for -: 'list' and 'str'"
     ]
    }
   ],
   "source": [
    "\n"
   ]
  },
  {
   "cell_type": "code",
   "execution_count": 1,
   "metadata": {},
   "outputs": [
    {
     "name": "stdout",
     "output_type": "stream",
     "text": [
      "1\n",
      "2\n",
      "3\n"
     ]
    }
   ],
   "source": [
    "s=[1,1,1,2,2,3,3,4,5]\n",
    "res=set(s)\n",
    "for i in res:\n",
    "    if s.count(i)>1:\n",
    "        print(i)"
   ]
  },
  {
   "cell_type": "code",
   "execution_count": 11,
   "metadata": {},
   "outputs": [
    {
     "name": "stdout",
     "output_type": "stream",
     "text": [
      "380\n"
     ]
    }
   ],
   "source": [
    "s=\"321\"\n",
    "sum1=0\n",
    "for i in range(len(s)):\n",
    "    for j in range(i,len(s)):\n",
    "        s1=int(s[i:j+1])\n",
    "        sum1+=s1\n",
    "        \n",
    "print(sum1)"
   ]
  },
  {
   "cell_type": "code",
   "execution_count": 17,
   "metadata": {},
   "outputs": [
    {
     "name": "stdout",
     "output_type": "stream",
     "text": [
      "3\n"
     ]
    }
   ],
   "source": [
    "a=[1,3,5,3,8,2,6,7,8,9]\n",
    "i=0\n",
    "sum1=0\n",
    "while(i<len(a)):\n",
    "    if sum1>=len(a):\n",
    "        print(i)\n",
    "        break\n",
    "    m=-1\n",
    "    for i in range(a[i]):\n",
    "        if a[i]>m:\n",
    "            m=a[i]\n",
    "    sum1+=m\n",
    "    i+=1\n",
    "    "
   ]
  },
  {
   "cell_type": "code",
   "execution_count": 7,
   "metadata": {},
   "outputs": [
    {
     "name": "stdout",
     "output_type": "stream",
     "text": [
      "4\n"
     ]
    }
   ],
   "source": [
    "s=\"pineapple\"\n",
    "s1=\"apple\"\n",
    "diff=abs(len(s1)-len(s))\n",
    "count=0\n",
    "\n",
    "for i in s:\n",
    "    if i not in s1:\n",
    "        count+=1\n",
    "if len(s)<len(s1):\n",
    "    print((count*2)+diff)\n",
    "else:\n",
    "    print(count*2)\n"
   ]
  },
  {
   "cell_type": "code",
   "execution_count": 9,
   "metadata": {},
   "outputs": [
    {
     "name": "stdout",
     "output_type": "stream",
     "text": [
      "hdsdCml-.su467.\n"
     ]
    }
   ],
   "source": [
    "import re\n",
    "s=\"eapaZji-.pr134.\"\n",
    "s1=\"\"\n",
    "k=3\n",
    "for i in s:\n",
    "    if re.search(\"[.,-]\",i):\n",
    "        s1+=i\n",
    "    elif i.isnumeric():\n",
    "        res=int(i)+k\n",
    "        s1+=str(res)\n",
    "    elif i.isalpha():\n",
    "        res=ord(i)+k\n",
    "        if i.isupper() and res>ord(\"Z\"):\n",
    "            res=res-26\n",
    "        elif i.islower() and res>ord(\"z\"):\n",
    "            res=res-26\n",
    "            \n",
    "        s1+=chr(res)\n",
    "print(s1)   "
   ]
  },
  {
   "cell_type": "code",
   "execution_count": 1,
   "metadata": {},
   "outputs": [
    {
     "name": "stdout",
     "output_type": "stream",
     "text": [
      "hll\n"
     ]
    },
    {
     "ename": "ValueError",
     "evalue": "invalid literal for int() with base 10: 'hll'",
     "output_type": "error",
     "traceback": [
      "\u001b[1;31m---------------------------------------------------------------------------\u001b[0m",
      "\u001b[1;31mValueError\u001b[0m                                Traceback (most recent call last)",
      "\u001b[1;32m<ipython-input-1-757a94bae671>\u001b[0m in \u001b[0;36m<module>\u001b[1;34m\u001b[0m\n\u001b[1;32m----> 1\u001b[1;33m \u001b[0mn\u001b[0m\u001b[1;33m=\u001b[0m\u001b[0mint\u001b[0m\u001b[1;33m(\u001b[0m\u001b[0minput\u001b[0m\u001b[1;33m(\u001b[0m\u001b[1;33m)\u001b[0m\u001b[1;33m)\u001b[0m\u001b[1;33m\u001b[0m\u001b[1;33m\u001b[0m\u001b[0m\n\u001b[0m\u001b[0;32m      2\u001b[0m \u001b[0mfinal\u001b[0m\u001b[1;33m=\u001b[0m\u001b[1;33m[\u001b[0m\u001b[1;33m]\u001b[0m\u001b[1;33m\u001b[0m\u001b[1;33m\u001b[0m\u001b[0m\n\u001b[0;32m      3\u001b[0m \u001b[1;32mfor\u001b[0m \u001b[0mi\u001b[0m \u001b[1;32min\u001b[0m \u001b[0mrange\u001b[0m\u001b[1;33m(\u001b[0m\u001b[0mn\u001b[0m\u001b[1;33m*\u001b[0m\u001b[0mn\u001b[0m\u001b[1;33m)\u001b[0m\u001b[1;33m:\u001b[0m\u001b[1;33m\u001b[0m\u001b[1;33m\u001b[0m\u001b[0m\n\u001b[0;32m      4\u001b[0m     \u001b[0mres\u001b[0m\u001b[1;33m=\u001b[0m\u001b[0mstr\u001b[0m\u001b[1;33m(\u001b[0m\u001b[0mbin\u001b[0m\u001b[1;33m(\u001b[0m\u001b[0mi\u001b[0m\u001b[1;33m)\u001b[0m\u001b[1;33m)\u001b[0m\u001b[1;33m\u001b[0m\u001b[1;33m\u001b[0m\u001b[0m\n\u001b[0;32m      5\u001b[0m     \u001b[1;32mif\u001b[0m \u001b[1;34m\"11\"\u001b[0m \u001b[1;32min\u001b[0m \u001b[0mres\u001b[0m\u001b[1;33m:\u001b[0m\u001b[1;33m\u001b[0m\u001b[1;33m\u001b[0m\u001b[0m\n",
      "\u001b[1;31mValueError\u001b[0m: invalid literal for int() with base 10: 'hll'"
     ]
    }
   ],
   "source": [
    "n=int(input())\n",
    "final=[]\n",
    "for i in range(n*n):\n",
    "    res=str(bin(i))\n",
    "    if \"11\" in res:\n",
    "        continue\n",
    "    final.append(res)"
   ]
  },
  {
   "cell_type": "code",
   "execution_count": 2,
   "metadata": {},
   "outputs": [
    {
     "name": "stdout",
     "output_type": "stream",
     "text": [
      "2\n",
      "101\n",
      "010\n",
      "7\n",
      "ds;ofsdj\\\n"
     ]
    },
    {
     "ename": "ValueError",
     "evalue": "invalid literal for int() with base 10: 'ds;ofsdj\\\\'",
     "output_type": "error",
     "traceback": [
      "\u001b[1;31m---------------------------------------------------------------------------\u001b[0m",
      "\u001b[1;31mValueError\u001b[0m                                Traceback (most recent call last)",
      "\u001b[1;32m<ipython-input-2-e3bedb0351d6>\u001b[0m in \u001b[0;36m<module>\u001b[1;34m\u001b[0m\n\u001b[0;32m      1\u001b[0m \u001b[0mt\u001b[0m\u001b[1;33m=\u001b[0m\u001b[0mint\u001b[0m\u001b[1;33m(\u001b[0m\u001b[0minput\u001b[0m\u001b[1;33m(\u001b[0m\u001b[1;33m)\u001b[0m\u001b[1;33m)\u001b[0m\u001b[1;33m\u001b[0m\u001b[1;33m\u001b[0m\u001b[0m\n\u001b[0;32m      2\u001b[0m \u001b[1;32mfor\u001b[0m \u001b[0m_\u001b[0m \u001b[1;32min\u001b[0m \u001b[0mrange\u001b[0m\u001b[1;33m(\u001b[0m\u001b[0mt\u001b[0m\u001b[1;33m)\u001b[0m\u001b[1;33m:\u001b[0m\u001b[1;33m\u001b[0m\u001b[1;33m\u001b[0m\u001b[0m\n\u001b[1;32m----> 3\u001b[1;33m     \u001b[0ma\u001b[0m\u001b[1;33m=\u001b[0m\u001b[0mint\u001b[0m\u001b[1;33m(\u001b[0m\u001b[0minput\u001b[0m\u001b[1;33m(\u001b[0m\u001b[1;33m)\u001b[0m\u001b[1;33m)\u001b[0m\u001b[1;33m\u001b[0m\u001b[1;33m\u001b[0m\u001b[0m\n\u001b[0m\u001b[0;32m      4\u001b[0m     \u001b[0mb\u001b[0m\u001b[1;33m=\u001b[0m\u001b[0mint\u001b[0m\u001b[1;33m(\u001b[0m\u001b[0minput\u001b[0m\u001b[1;33m(\u001b[0m\u001b[1;33m)\u001b[0m\u001b[1;33m)\u001b[0m\u001b[1;33m\u001b[0m\u001b[1;33m\u001b[0m\u001b[0m\n\u001b[0;32m      5\u001b[0m     \u001b[0mres\u001b[0m\u001b[1;33m=\u001b[0m\u001b[0mstr\u001b[0m\u001b[1;33m(\u001b[0m\u001b[0ma\u001b[0m\u001b[1;33m+\u001b[0m\u001b[0mb\u001b[0m\u001b[1;33m)\u001b[0m\u001b[1;33m\u001b[0m\u001b[1;33m\u001b[0m\u001b[0m\n",
      "\u001b[1;31mValueError\u001b[0m: invalid literal for int() with base 10: 'ds;ofsdj\\\\'"
     ]
    }
   ],
   "source": [
    "t=int(input())\n",
    "for _ in range(t):\n",
    "    a=int(input())\n",
    "    b=int(input())\n",
    "    res=str(a+b)\n",
    "    decimal = 0\n",
    "    for digit in res:\n",
    "        decimal = decimal*2 + int(digit)\n",
    "    print(decimal)"
   ]
  },
  {
   "cell_type": "code",
   "execution_count": 2,
   "metadata": {},
   "outputs": [
    {
     "ename": "IndentationError",
     "evalue": "unindent does not match any outer indentation level (<tokenize>, line 9)",
     "output_type": "error",
     "traceback": [
      "\u001b[1;36m  File \u001b[1;32m\"<tokenize>\"\u001b[1;36m, line \u001b[1;32m9\u001b[0m\n\u001b[1;33m    return count\u001b[0m\n\u001b[1;37m    ^\u001b[0m\n\u001b[1;31mIndentationError\u001b[0m\u001b[1;31m:\u001b[0m unindent does not match any outer indentation level\n"
     ]
    }
   ],
   "source": [
    "sum1=arr[0]\n",
    "\t\tcount=0\n",
    "\t\tfor i in arr[1:]:\n",
    "\t\t    if sum1 in arr:\n",
    "\t\t        count+=1\n",
    "\t\t    sum1+=i\n",
    "\t\t    elif sum1>max(arr):\n",
    "\t\t        sum1=sum1-i\n",
    "\t\t return count"
   ]
  },
  {
   "cell_type": "code",
   "execution_count": 19,
   "metadata": {},
   "outputs": [
    {
     "name": "stdout",
     "output_type": "stream",
     "text": [
      "5 found at 4\n"
     ]
    }
   ],
   "source": [
    "a=[1,2,3,4,5]\n",
    "start=0\n",
    "tar=5\n",
    "end=len(a)-1\n",
    "while(start<=end):\n",
    "    m=(start+end)//2\n",
    "    if a[m]==tar:\n",
    "        print(f\"{tar} found at {m}\")\n",
    "        break\n",
    "        \n",
    "    elif a[m]>tar:\n",
    "        end=m-1\n",
    "    elif a[m]<tar:\n",
    "        start=m+1\n",
    "    else:\n",
    "        print(\"taget not found\")\n",
    " \n",
    "    "
   ]
  },
  {
   "cell_type": "code",
   "execution_count": 13,
   "metadata": {},
   "outputs": [
    {
     "name": "stdout",
     "output_type": "stream",
     "text": [
      "hello\n"
     ]
    }
   ],
   "source": [
    "print(\"hello\")"
   ]
  },
  {
   "cell_type": "code",
   "execution_count": 7,
   "metadata": {},
   "outputs": [
    {
     "name": "stdout",
     "output_type": "stream",
     "text": [
      "97\n"
     ]
    }
   ],
   "source": [
    "print(ord(\"a\"))"
   ]
  },
  {
   "cell_type": "code",
   "execution_count": 25,
   "metadata": {},
   "outputs": [
    {
     "name": "stdout",
     "output_type": "stream",
     "text": [
      "223691457.0\n"
     ]
    }
   ],
   "source": [
    "import math\n",
    "s=\"cAr1\"\n",
    "res=0\n",
    "ind=len(s)-1\n",
    "for i in range(len(s)):\n",
    "    res+=((ord(s[ind])*math.pow(131,i)))\n",
    "    ind-=1\n",
    "print(res%(1000000000+7))"
   ]
  },
  {
   "cell_type": "code",
   "execution_count": 1,
   "metadata": {},
   "outputs": [
    {
     "name": "stdout",
     "output_type": "stream",
     "text": [
      "[1, 2, 4, 3, 5, 0, 0, 0]\n"
     ]
    }
   ],
   "source": [
    "#MOVE ALL ZEROS TO THE END OF THE ARRAY\n",
    "arr=[1,2,0,4,3,0,5,0]\n",
    "res=[]\n",
    "for i in arr:\n",
    "    if i!=0:\n",
    "        res.append(i)\n",
    "var=arr.count(0)\n",
    "print(res+[0]*var)"
   ]
  },
  {
   "cell_type": "code",
   "execution_count": 1,
   "metadata": {},
   "outputs": [
    {
     "ename": "NameError",
     "evalue": "name 'coronavirus' is not defined",
     "output_type": "error",
     "traceback": [
      "\u001b[1;31m---------------------------------------------------------------------------\u001b[0m",
      "\u001b[1;31mNameError\u001b[0m                                 Traceback (most recent call last)",
      "\u001b[1;32m<ipython-input-1-09ada4bbc156>\u001b[0m in \u001b[0;36m<module>\u001b[1;34m\u001b[0m\n\u001b[1;32m----> 1\u001b[1;33m \u001b[0mcoronavirus\u001b[0m\u001b[1;33m\u001b[0m\u001b[1;33m\u001b[0m\u001b[0m\n\u001b[0m\u001b[0;32m      2\u001b[0m \u001b[1;36m3\u001b[0m\u001b[1;33m\u001b[0m\u001b[1;33m\u001b[0m\u001b[0m\n\u001b[0;32m      3\u001b[0m \u001b[0mabcde\u001b[0m\u001b[1;33m\u001b[0m\u001b[1;33m\u001b[0m\u001b[0m\n\u001b[0;32m      4\u001b[0m \u001b[0mcrnas\u001b[0m\u001b[1;33m\u001b[0m\u001b[1;33m\u001b[0m\u001b[0m\n\u001b[0;32m      5\u001b[0m \u001b[0monarous\u001b[0m\u001b[1;33m\u001b[0m\u001b[1;33m\u001b[0m\u001b[0m\n",
      "\u001b[1;31mNameError\u001b[0m: name 'coronavirus' is not defined"
     ]
    }
   ],
   "source": [
    "coronavirus\n",
    "3\n",
    "abcde\n",
    "crnas\n",
    "onarous\n"
   ]
  },
  {
   "cell_type": "code",
   "execution_count": 9,
   "metadata": {},
   "outputs": [
    {
     "name": "stdout",
     "output_type": "stream",
     "text": [
      "guess the number between 1 to 10!! 5\n",
      "number is to low in 2 trials\n",
      "guess the number between 1 to 10!! 7\n",
      "number is to low in 1 trials\n",
      "guess the number between 1 to 10!! 8\n",
      "number is to low in 0 trials\n",
      "Sorry come back again\n"
     ]
    }
   ],
   "source": [
    "import random\n",
    "num=random.randint(1,10)\n",
    "count=3\n",
    "while(count>0):\n",
    "    guess=int(input(\"guess the number between 1 to 10!! \"))\n",
    "    if guess >num:\n",
    "        print(f\"number is to high reamining in {count-1} trials\")\n",
    "    elif guess<num:\n",
    "        print(f\"number is to low in {count-1} trials\")\n",
    "    else:\n",
    "        print(f\"{guess} is the number congragulations!!! in {3-count} trials\")\n",
    "        break\n",
    "    count-=1\n",
    "if count==0:\n",
    "    print(\"Sorry come back again\")\n"
   ]
  },
  {
   "cell_type": "markdown",
   "metadata": {},
   "source": [
    "## ['a', 'c', 'i', 'n', 'o', 'o', 'r', 'r', 's', 'u', 'v'] ['a', 'n', 'o', 'o', 'r', 's', 'u']"
   ]
  },
  {
   "cell_type": "code",
   "execution_count": 1,
   "metadata": {},
   "outputs": [
    {
     "ename": "TypeError",
     "evalue": "'str' object does not support item assignment",
     "output_type": "error",
     "traceback": [
      "\u001b[1;31m---------------------------------------------------------------------------\u001b[0m",
      "\u001b[1;31mTypeError\u001b[0m                                 Traceback (most recent call last)",
      "\u001b[1;32m<ipython-input-1-be072af90004>\u001b[0m in \u001b[0;36m<module>\u001b[1;34m\u001b[0m\n\u001b[0;32m      1\u001b[0m \u001b[0ms\u001b[0m\u001b[1;33m=\u001b[0m\u001b[1;34m\"Pradeep\"\u001b[0m\u001b[1;33m\u001b[0m\u001b[1;33m\u001b[0m\u001b[0m\n\u001b[1;32m----> 2\u001b[1;33m \u001b[0ms\u001b[0m\u001b[1;33m[\u001b[0m\u001b[1;36m2\u001b[0m\u001b[1;33m]\u001b[0m\u001b[1;33m=\u001b[0m\u001b[1;34m\"z\"\u001b[0m\u001b[1;33m\u001b[0m\u001b[1;33m\u001b[0m\u001b[0m\n\u001b[0m\u001b[0;32m      3\u001b[0m \u001b[0mprint\u001b[0m\u001b[1;33m(\u001b[0m\u001b[0ms\u001b[0m\u001b[1;33m)\u001b[0m\u001b[1;33m\u001b[0m\u001b[1;33m\u001b[0m\u001b[0m\n",
      "\u001b[1;31mTypeError\u001b[0m: 'str' object does not support item assignment"
     ]
    }
   ],
   "source": [
    "s=\"Pradeep\"\n",
    "s[2]=\"z\"\n",
    "print(s)"
   ]
  },
  {
   "cell_type": "code",
   "execution_count": null,
   "metadata": {},
   "outputs": [],
   "source": [
    "n=10\n",
    "count=0\n",
    "while(n>=0):\n",
    "    if n%2==0:\n",
    "        n=n//2\n",
    "        count+=1\n",
    "    else:\n",
    "        n=n-1\n",
    "        count+=1 \n",
    "print(count)\n"
   ]
  },
  {
   "cell_type": "code",
   "execution_count": 10,
   "metadata": {},
   "outputs": [
    {
     "name": "stdout",
     "output_type": "stream",
     "text": [
      "13\n"
     ]
    }
   ],
   "source": [
    "# cook your dish here\n",
    "d=list({1,2,3,4})\n",
    "row=2\n",
    "col=2\n",
    "mat=[]\n",
    "k=0\n",
    "for i in range(row):\n",
    "    v=[]\n",
    "    for j in range(col):\n",
    "        v.append(d[k])\n",
    "        k+=1\n",
    "    mat.append(v)\n",
    "maxrow=-1\n",
    "maxcol=-1\n",
    "for i in range(row):\n",
    "    sumr=0\n",
    "    sumc=0\n",
    "    for j in range (row):\n",
    "        sumr+=mat[i][j]\n",
    "        sumc+=mat[j][i]\n",
    "    maxrow=max(maxrow,sumr)\n",
    "    maxcol=max(maxcol,sumc)\n",
    "print(maxrow+maxcol)"
   ]
  },
  {
   "cell_type": "code",
   "execution_count": 5,
   "metadata": {},
   "outputs": [
    {
     "name": "stdout",
     "output_type": "stream",
     "text": [
      "false\n"
     ]
    }
   ],
   "source": [
    "s=\"textbook\"\n",
    "s=s.lower()\n",
    "m=len(s)//2\n",
    "\n",
    "a=s[:m]\n",
    "b=s[m:]\n",
    "vowels=\"aeiou\"\n",
    "counta,countb=0,0\n",
    "for i in a:\n",
    "    if i in vowels:\n",
    "        counta+=1\n",
    "for i in b:\n",
    "    if i in vowels:\n",
    "        countb+=1\n",
    "if counta==countb:\n",
    "    print(\"true\")\n",
    "else:\n",
    "    print(\"false\")"
   ]
  },
  {
   "cell_type": "code",
   "execution_count": 6,
   "metadata": {},
   "outputs": [
    {
     "name": "stdout",
     "output_type": "stream",
     "text": [
      "15\n"
     ]
    }
   ],
   "source": [
    "def sumofdig(n):\n",
    "    sum1=0\n",
    "    while(n>0):\n",
    "        rem=n%10\n",
    "        sum1+=rem\n",
    "        n=n//10\n",
    "    return sum1\n",
    "\n",
    "n=39\n",
    "res=n\n",
    "sum1=0\n",
    "while(res>9):\n",
    "    res=sumofdig(res)\n",
    "print(res)"
   ]
  },
  {
   "cell_type": "code",
   "execution_count": null,
   "metadata": {},
   "outputs": [],
   "source": [
    "def sumofdig(n):\n",
    "            sum1=0\n",
    "            while(n>0):\n",
    "                rem=n%10\n",
    "                sum1+=rem\n",
    "                n=n//10\n",
    "            return sum1\n",
    "        res=n\n",
    "        while(res>9):\n",
    "            res=sumofdig(res)\n",
    "        \n",
    "        return res"
   ]
  }
 ],
 "metadata": {
  "kernelspec": {
   "display_name": "Python 3",
   "language": "python",
   "name": "python3"
  },
  "language_info": {
   "codemirror_mode": {
    "name": "ipython",
    "version": 3
   },
   "file_extension": ".py",
   "mimetype": "text/x-python",
   "name": "python",
   "nbconvert_exporter": "python",
   "pygments_lexer": "ipython3",
   "version": "3.8.3"
  }
 },
 "nbformat": 4,
 "nbformat_minor": 4
}
